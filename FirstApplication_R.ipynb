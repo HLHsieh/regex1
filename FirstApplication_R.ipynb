{
 "cells": [
  {
   "cell_type": "code",
   "execution_count": 1,
   "id": "accessible-kansas",
   "metadata": {
    "scrolled": true
   },
   "outputs": [
    {
     "data": {
      "text/html": [
       "<table class=\"dataframe\">\n",
       "<caption>A data.frame: 30 × 2</caption>\n",
       "<thead>\n",
       "\t<tr><th scope=col>y</th><th scope=col>x</th></tr>\n",
       "\t<tr><th scope=col>&lt;dbl&gt;</th><th scope=col>&lt;dbl&gt;</th></tr>\n",
       "</thead>\n",
       "<tbody>\n",
       "\t<tr><td> 6.8102</td><td> 9.8492</td></tr>\n",
       "\t<tr><td> 9.8437</td><td>11.1450</td></tr>\n",
       "\t<tr><td> 4.9767</td><td> 5.1209</td></tr>\n",
       "\t<tr><td> 5.0006</td><td> 8.1085</td></tr>\n",
       "\t<tr><td> 3.5047</td><td> 3.5599</td></tr>\n",
       "\t<tr><td> 3.6419</td><td> 1.9883</td></tr>\n",
       "\t<tr><td> 7.8725</td><td>15.5322</td></tr>\n",
       "\t<tr><td> 5.1442</td><td> 7.5202</td></tr>\n",
       "\t<tr><td> 8.3883</td><td>14.0202</td></tr>\n",
       "\t<tr><td> 6.8204</td><td> 7.5226</td></tr>\n",
       "\t<tr><td> 9.0185</td><td>14.3272</td></tr>\n",
       "\t<tr><td> 2.6148</td><td> 3.8950</td></tr>\n",
       "\t<tr><td> 3.7367</td><td> 1.8707</td></tr>\n",
       "\t<tr><td> 2.8651</td><td> 0.8347</td></tr>\n",
       "\t<tr><td>10.7469</td><td>18.3413</td></tr>\n",
       "\t<tr><td> 2.3710</td><td> 1.6645</td></tr>\n",
       "\t<tr><td> 9.6653</td><td>17.0579</td></tr>\n",
       "\t<tr><td> 7.1926</td><td> 9.2375</td></tr>\n",
       "\t<tr><td>11.7833</td><td>21.0000</td></tr>\n",
       "\t<tr><td> 3.9537</td><td> 3.5286</td></tr>\n",
       "\t<tr><td>15.0000</td><td>25.0000</td></tr>\n",
       "\t<tr><td> 7.9152</td><td> 9.9008</td></tr>\n",
       "\t<tr><td> 9.3368</td><td>17.5990</td></tr>\n",
       "\t<tr><td> 8.7587</td><td>13.8790</td></tr>\n",
       "\t<tr><td> 6.7813</td><td>10.8690</td></tr>\n",
       "\t<tr><td> 7.9924</td><td>12.6238</td></tr>\n",
       "\t<tr><td> 2.2806</td><td> 0.9719</td></tr>\n",
       "\t<tr><td>10.4050</td><td>14.4814</td></tr>\n",
       "\t<tr><td> 3.7891</td><td> 2.1792</td></tr>\n",
       "\t<tr><td>10.9067</td><td>18.4052</td></tr>\n",
       "</tbody>\n",
       "</table>\n"
      ],
      "text/latex": [
       "A data.frame: 30 × 2\n",
       "\\begin{tabular}{ll}\n",
       " y & x\\\\\n",
       " <dbl> & <dbl>\\\\\n",
       "\\hline\n",
       "\t  6.8102 &  9.8492\\\\\n",
       "\t  9.8437 & 11.1450\\\\\n",
       "\t  4.9767 &  5.1209\\\\\n",
       "\t  5.0006 &  8.1085\\\\\n",
       "\t  3.5047 &  3.5599\\\\\n",
       "\t  3.6419 &  1.9883\\\\\n",
       "\t  7.8725 & 15.5322\\\\\n",
       "\t  5.1442 &  7.5202\\\\\n",
       "\t  8.3883 & 14.0202\\\\\n",
       "\t  6.8204 &  7.5226\\\\\n",
       "\t  9.0185 & 14.3272\\\\\n",
       "\t  2.6148 &  3.8950\\\\\n",
       "\t  3.7367 &  1.8707\\\\\n",
       "\t  2.8651 &  0.8347\\\\\n",
       "\t 10.7469 & 18.3413\\\\\n",
       "\t  2.3710 &  1.6645\\\\\n",
       "\t  9.6653 & 17.0579\\\\\n",
       "\t  7.1926 &  9.2375\\\\\n",
       "\t 11.7833 & 21.0000\\\\\n",
       "\t  3.9537 &  3.5286\\\\\n",
       "\t 15.0000 & 25.0000\\\\\n",
       "\t  7.9152 &  9.9008\\\\\n",
       "\t  9.3368 & 17.5990\\\\\n",
       "\t  8.7587 & 13.8790\\\\\n",
       "\t  6.7813 & 10.8690\\\\\n",
       "\t  7.9924 & 12.6238\\\\\n",
       "\t  2.2806 &  0.9719\\\\\n",
       "\t 10.4050 & 14.4814\\\\\n",
       "\t  3.7891 &  2.1792\\\\\n",
       "\t 10.9067 & 18.4052\\\\\n",
       "\\end{tabular}\n"
      ],
      "text/markdown": [
       "\n",
       "A data.frame: 30 × 2\n",
       "\n",
       "| y &lt;dbl&gt; | x &lt;dbl&gt; |\n",
       "|---|---|\n",
       "|  6.8102 |  9.8492 |\n",
       "|  9.8437 | 11.1450 |\n",
       "|  4.9767 |  5.1209 |\n",
       "|  5.0006 |  8.1085 |\n",
       "|  3.5047 |  3.5599 |\n",
       "|  3.6419 |  1.9883 |\n",
       "|  7.8725 | 15.5322 |\n",
       "|  5.1442 |  7.5202 |\n",
       "|  8.3883 | 14.0202 |\n",
       "|  6.8204 |  7.5226 |\n",
       "|  9.0185 | 14.3272 |\n",
       "|  2.6148 |  3.8950 |\n",
       "|  3.7367 |  1.8707 |\n",
       "|  2.8651 |  0.8347 |\n",
       "| 10.7469 | 18.3413 |\n",
       "|  2.3710 |  1.6645 |\n",
       "|  9.6653 | 17.0579 |\n",
       "|  7.1926 |  9.2375 |\n",
       "| 11.7833 | 21.0000 |\n",
       "|  3.9537 |  3.5286 |\n",
       "| 15.0000 | 25.0000 |\n",
       "|  7.9152 |  9.9008 |\n",
       "|  9.3368 | 17.5990 |\n",
       "|  8.7587 | 13.8790 |\n",
       "|  6.7813 | 10.8690 |\n",
       "|  7.9924 | 12.6238 |\n",
       "|  2.2806 |  0.9719 |\n",
       "| 10.4050 | 14.4814 |\n",
       "|  3.7891 |  2.1792 |\n",
       "| 10.9067 | 18.4052 |\n",
       "\n"
      ],
      "text/plain": [
       "   y       x      \n",
       "1   6.8102  9.8492\n",
       "2   9.8437 11.1450\n",
       "3   4.9767  5.1209\n",
       "4   5.0006  8.1085\n",
       "5   3.5047  3.5599\n",
       "6   3.6419  1.9883\n",
       "7   7.8725 15.5322\n",
       "8   5.1442  7.5202\n",
       "9   8.3883 14.0202\n",
       "10  6.8204  7.5226\n",
       "11  9.0185 14.3272\n",
       "12  2.6148  3.8950\n",
       "13  3.7367  1.8707\n",
       "14  2.8651  0.8347\n",
       "15 10.7469 18.3413\n",
       "16  2.3710  1.6645\n",
       "17  9.6653 17.0579\n",
       "18  7.1926  9.2375\n",
       "19 11.7833 21.0000\n",
       "20  3.9537  3.5286\n",
       "21 15.0000 25.0000\n",
       "22  7.9152  9.9008\n",
       "23  9.3368 17.5990\n",
       "24  8.7587 13.8790\n",
       "25  6.7813 10.8690\n",
       "26  7.9924 12.6238\n",
       "27  2.2806  0.9719\n",
       "28 10.4050 14.4814\n",
       "29  3.7891  2.1792\n",
       "30 10.9067 18.4052"
      ]
     },
     "metadata": {},
     "output_type": "display_data"
    }
   ],
   "source": [
    "df = read.csv(\"regrex1.csv\", head = TRUE)\n",
    "df"
   ]
  },
  {
   "cell_type": "code",
   "execution_count": 2,
   "id": "desirable-draft",
   "metadata": {},
   "outputs": [
    {
     "data": {
      "image/png": "[encoded data removed]",
      "text/plain": [
       "plot without title"
      ]
     },
     "metadata": {
      "image/png": {
       "height": 420,
       "width": 420
      }
     },
     "output_type": "display_data"
    }
   ],
   "source": [
    "plot(y ~ x, data = df)"
   ]
  },
  {
   "cell_type": "code",
   "execution_count": 3,
   "id": "moved-scanner",
   "metadata": {},
   "outputs": [
    {
     "data": {
      "text/plain": [
       "\n",
       "Call:\n",
       "lm(formula = y ~ x, data = df)\n",
       "\n",
       "Residuals:\n",
       "     Min       1Q   Median       3Q      Max \n",
       "-1.66121 -0.53286 -0.02869  0.50436  2.36786 \n",
       "\n",
       "Coefficients:\n",
       "            Estimate Std. Error t value Pr(>|t|)    \n",
       "(Intercept)  2.24814    0.29365   7.656 2.44e-08 ***\n",
       "x            0.46906    0.02444  19.194  < 2e-16 ***\n",
       "---\n",
       "Signif. codes:  0 ‘***’ 0.001 ‘**’ 0.01 ‘*’ 0.05 ‘.’ 0.1 ‘ ’ 1\n",
       "\n",
       "Residual standard error: 0.8779 on 28 degrees of freedom\n",
       "Multiple R-squared:  0.9294,\tAdjusted R-squared:  0.9268 \n",
       "F-statistic: 368.4 on 1 and 28 DF,  p-value: < 2.2e-16\n"
      ]
     },
     "metadata": {},
     "output_type": "display_data"
    }
   ],
   "source": [
    "linear_regressor <- lm(y ~ x, data = df)\n",
    "summary(linear_regressor)"
   ]
  },
  {
   "cell_type": "code",
   "execution_count": 4,
   "id": "completed-conservation",
   "metadata": {},
   "outputs": [],
   "source": [
    "Y_pred <- predict(linear_regressor, data = data.frame(df$x))"
   ]
  },
  {
   "cell_type": "code",
   "execution_count": 8,
   "id": "colonial-magnet",
   "metadata": {},
   "outputs": [
    {
     "data": {
      "image/png": "[encoded data removed]",
      "text/plain": [
       "plot without title"
      ]
     },
     "metadata": {
      "image/png": {
       "height": 420,
       "width": 420
      }
     },
     "output_type": "display_data"
    }
   ],
   "source": [
    "plot(y ~ x, data = df)\n",
    "abline(linear_regressor)"
   ]
  },
  {
   "cell_type": "code",
   "execution_count": null,
   "id": "protected-receipt",
   "metadata": {},
   "outputs": [],
   "source": []
  }
 ],
 "metadata": {
  "kernelspec": {
   "display_name": "R",
   "language": "R",
   "name": "ir"
  },
  "language_info": {
   "codemirror_mode": "r",
   "file_extension": ".r",
   "mimetype": "text/x-r-source",
   "name": "R",
   "pygments_lexer": "r",
   "version": "4.0.1"
  }
 },
 "nbformat": 4,
 "nbformat_minor": 5
}
